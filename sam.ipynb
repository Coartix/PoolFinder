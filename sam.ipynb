{
 "cells": [
  {
   "cell_type": "code",
   "execution_count": 1,
   "metadata": {},
   "outputs": [],
   "source": [
    "# !pip install -q git+https://github.com/huggingface/transformers"
   ]
  },
  {
   "cell_type": "code",
   "execution_count": 2,
   "metadata": {},
   "outputs": [
    {
     "name": "stderr",
     "output_type": "stream",
     "text": [
      "2023-12-13 10:48:37.914267: W tensorflow/compiler/tf2tensorrt/utils/py_utils.cc:38] TF-TRT Warning: Could not find TensorRT\n"
     ]
    }
   ],
   "source": [
    "import torch\n",
    "import os\n",
    "import io\n",
    "import time\n",
    "import glob\n",
    "import pandas as pd\n",
    "import numpy as np\n",
    "import cv2\n",
    "import matplotlib.pyplot as plt\n",
    "from PIL import Image\n",
    "from utils import *\n",
    "%matplotlib inline\n",
    "# Import sam vit pretrained model\n",
    "from transformers import SamModel, SamProcessor"
   ]
  },
  {
   "cell_type": "code",
   "execution_count": 3,
   "metadata": {},
   "outputs": [
    {
     "name": "stdout",
     "output_type": "stream",
     "text": [
      "- nombre d'images: 191 , nb files info coord: 191\n"
     ]
    }
   ],
   "source": [
    "files_grabbed = []\n",
    "files_info = []\n",
    "path_check_include = ''\n",
    "\n",
    "path_ign = os.getcwd() + '/data'\n",
    "files_grabbed = glob.glob(os.path.join(path_ign, '*.jp2'))\n",
    "files_info = glob.glob(os.path.join(path_ign, '*.tab'))\n",
    "files_grabbed = [x for x in files_grabbed if path_check_include in x]\n",
    "files_info = [x for x in files_info if path_check_include in x]\n",
    "\n",
    "print(\"- nombre d'images:\", len(files_grabbed), ', nb files info coord:', len(files_info))"
   ]
  },
  {
   "cell_type": "code",
   "execution_count": 4,
   "metadata": {},
   "outputs": [
    {
     "name": "stdout",
     "output_type": "stream",
     "text": [
      "/home/coartix/S9-EPITA/ALEIA/General/PoolFinder/data/84-2018-0870-6310-LA93-0M50-IRC-E080.jp2\n",
      "4.927130699157715\n"
     ]
    }
   ],
   "source": [
    "def read_one(fname):\n",
    "    img = cv2.imread(fname)      \n",
    "    img = cv2.cvtColor(img, cv2.COLOR_BGR2RGB) \n",
    "    return img\n",
    "fname = files_grabbed[0]\n",
    "print(fname)\n",
    "ts = time.time()\n",
    "img = read_one(fname)\n",
    "print(time.time() - ts)"
   ]
  },
  {
   "cell_type": "markdown",
   "metadata": {},
   "source": [
    "#### Preprocess"
   ]
  },
  {
   "cell_type": "code",
   "execution_count": 5,
   "metadata": {},
   "outputs": [],
   "source": [
    "def preprocess_image(img):\n",
    "    # Read the image\n",
    "    #img = cv2.imread(image_path)\n",
    "    #img = cv2.cvtColor(img, cv2.COLOR_BGR2RGB)\n",
    "\n",
    "    # Normalize the image\n",
    "    img_normalized = img / 255.0\n",
    "\n",
    "    # Convert back to 8-bit format\n",
    "    img_normalized = (img_normalized * 255).astype(np.uint8)\n",
    "\n",
    "    # Enhance contrast - convert to YUV and equalize the Y channel\n",
    "    img_yuv = cv2.cvtColor(img_normalized, cv2.COLOR_RGB2YUV)\n",
    "    img_yuv[:, :, 0] = cv2.equalizeHist(img_yuv[:, :, 0])\n",
    "    img_contrast_enhanced = cv2.cvtColor(img_yuv, cv2.COLOR_YUV2RGB)\n",
    "\n",
    "    # Correct reddish tint - scale down the red channel\n",
    "    # red_scale_factor = 0.75\n",
    "    # img_contrast_enhanced[:, :, 0] = np.clip(img_contrast_enhanced[:, :, 0] * red_scale_factor, 0, 255).astype(np.uint8)\n",
    "\n",
    "    # Identify blue regions\n",
    "    # hsv_img = cv2.cvtColor(img_contrast_enhanced, cv2.COLOR_RGB2HSV)\n",
    "    # Define range for blue color\n",
    "    lower_blue = np.array([100, 150, 0])\n",
    "    upper_blue = np.array([140, 255, 255])\n",
    "    blue_mask = cv2.inRange(img_contrast_enhanced, lower_blue, upper_blue)\n",
    "\n",
    "    # Dilate the blue regions to make them larger\n",
    "    kernel = np.ones((5, 5), np.uint8)  # Kernel size can be adjusted\n",
    "    blue_mask_dilated = cv2.dilate(blue_mask, kernel, iterations=1)\n",
    "\n",
    "    # Apply the dilated mask to the image to enhance blue regions\n",
    "    img_blue_enhanced = img_contrast_enhanced.copy()\n",
    "    img_blue_enhanced[blue_mask_dilated > 0] = img_contrast_enhanced[blue_mask_dilated > 0] * 1.1\n",
    "    img_blue_enhanced = np.clip(img_blue_enhanced, 0, 255)\n",
    "\n",
    "    return img_blue_enhanced"
   ]
  },
  {
   "cell_type": "markdown",
   "metadata": {},
   "source": [
    "##### Change to hsv"
   ]
  },
  {
   "cell_type": "code",
   "execution_count": 6,
   "metadata": {},
   "outputs": [
    {
     "data": {
      "text/plain": [
       "'img = cv2.cvtColor(img, cv2.COLOR_RGB2HSV)\\nplt.figure(figsize=(10,10))\\nplt.imshow(img)\\nplt.show()'"
      ]
     },
     "execution_count": 6,
     "metadata": {},
     "output_type": "execute_result"
    }
   ],
   "source": [
    "'''img = cv2.cvtColor(img, cv2.COLOR_RGB2HSV)\n",
    "plt.figure(figsize=(10,10))\n",
    "plt.imshow(img)\n",
    "plt.show()'''"
   ]
  },
  {
   "cell_type": "code",
   "execution_count": 7,
   "metadata": {},
   "outputs": [
    {
     "name": "stdout",
     "output_type": "stream",
     "text": [
      "65536\n"
     ]
    }
   ],
   "source": [
    "def split_image(img, nb_split):\n",
    "    img_split = []\n",
    "    h, w, c = img.shape\n",
    "    for i in range(nb_split):\n",
    "        for j in range(nb_split):\n",
    "            img_split.append(img[i*h//nb_split:(i+1)*h//nb_split, j*w//nb_split:(j+1)*w//nb_split, :])\n",
    "    return img_split\n",
    "\n",
    "img_split = split_image(img, 256)\n",
    "print(len(img_split))"
   ]
  },
  {
   "cell_type": "markdown",
   "metadata": {},
   "source": [
    "Loading model"
   ]
  },
  {
   "cell_type": "code",
   "execution_count": 8,
   "metadata": {},
   "outputs": [
    {
     "name": "stdout",
     "output_type": "stream",
     "text": [
      "Device: cuda\n"
     ]
    },
    {
     "name": "stderr",
     "output_type": "stream",
     "text": [
      "/home/coartix/.local/lib/python3.10/site-packages/torchvision/io/image.py:13: UserWarning: Failed to load image Python extension: 'libc10_hip.so: cannot open shared object file: No such file or directory'If you don't plan on using image functionality from `torchvision.io`, you can ignore this warning. Otherwise, there might be something wrong with your environment. Did you have `libjpeg` or `libpng` installed before building `torchvision` from source?\n",
      "  warn(\n"
     ]
    }
   ],
   "source": [
    "device = torch.device(\"cuda\" if torch.cuda.is_available() else \"cpu\")\n",
    "print(f\"Device: {device}\")\n",
    "\n",
    "model = SamModel.from_pretrained(\"facebook/sam-vit-base\").to(device)\n",
    "processor = SamProcessor.from_pretrained(\"facebook/sam-vit-base\")"
   ]
  },
  {
   "cell_type": "code",
   "execution_count": 9,
   "metadata": {},
   "outputs": [],
   "source": [
    "img1 = img_split[2053]\n",
    "img1 = preprocess_image(img1)\n",
    "img1 = Image.fromarray(img1)\n",
    "\n",
    "inputs = processor(img1, return_tensors=\"pt\").to(device)\n",
    "\n",
    "with torch.no_grad():\n",
    "    outputs = model(**inputs)\n",
    "\n",
    "mask = processor.image_processor.post_process_masks(\n",
    "    outputs.pred_masks.cpu(), inputs[\"original_sizes\"].cpu(), inputs[\"reshaped_input_sizes\"].cpu()\n",
    ")\n",
    "scores = outputs.iou_scores"
   ]
  },
  {
   "cell_type": "code",
   "execution_count": 10,
   "metadata": {},
   "outputs": [
    {
     "data": {
      "image/png": "[encoded data removed]",
      "text/plain": [
       "<Figure size 2500x2500 with 3 Axes>"
      ]
     },
     "metadata": {},
     "output_type": "display_data"
    }
   ],
   "source": [
    "show_masks_on_image(img1, mask[0], scores)"
   ]
  },
  {
   "cell_type": "code",
   "execution_count": 12,
   "metadata": {},
   "outputs": [
    {
     "name": "stdout",
     "output_type": "stream",
     "text": [
      "1\n"
     ]
    }
   ],
   "source": [
    "print(len(mask))"
   ]
  }
 ],
 "metadata": {
  "kernelspec": {
   "display_name": "Python 3",
   "language": "python",
   "name": "python3"
  },
  "language_info": {
   "codemirror_mode": {
    "name": "ipython",
    "version": 3
   },
   "file_extension": ".py",
   "mimetype": "text/x-python",
   "name": "python",
   "nbconvert_exporter": "python",
   "pygments_lexer": "ipython3",
   "version": "3.10.12"
  }
 },
 "nbformat": 4,
 "nbformat_minor": 2
}
