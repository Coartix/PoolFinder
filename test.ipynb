{
 "cells": [
  {
   "cell_type": "code",
   "execution_count": 3,
   "metadata": {},
   "outputs": [],
   "source": [
    "import os\n",
    "import io\n",
    "import time\n",
    "import glob\n",
    "import pandas as pd\n",
    "import numpy as np\n",
    "import cv2\n",
    "import matplotlib.pyplot as plt\n",
    "%matplotlib inline"
   ]
  },
  {
   "cell_type": "code",
   "execution_count": 10,
   "metadata": {},
   "outputs": [
    {
     "name": "stdout",
     "output_type": "stream",
     "text": [
      "/home/coartix/S9-EPITA/ALEIA/General/PoolFinder\n",
      "- nombre d'images: 0 , nb files info coord: 0\n"
     ]
    }
   ],
   "source": [
    "files_grabbed = []\n",
    "files_info = []\n",
    "path_check_include = '1_DONNEES_LIVRAISON_2018-10-00112'\n",
    "\n",
    "path_ign = os.getcwd()\n",
    "print(path_ign)\n",
    "files_grabbed = glob.glob(os.path.join(path_ign, '*.jp2'))\n",
    "files_info = glob.glob(os.path.join(path_ign, '*.tab'))\n",
    "files_grabbed = [x for x in files_grabbed if path_check_include in x]\n",
    "files_info = [x for x in files_info if path_check_include in x]\n",
    "\n",
    "print(\"- nombre d'images:\", len(files_grabbed), ', nb files info coord:', len(files_info))"
   ]
  }
 ],
 "metadata": {
  "kernelspec": {
   "display_name": "Python 3",
   "language": "python",
   "name": "python3"
  },
  "language_info": {
   "codemirror_mode": {
    "name": "ipython",
    "version": 3
   },
   "file_extension": ".py",
   "mimetype": "text/x-python",
   "name": "python",
   "nbconvert_exporter": "python",
   "pygments_lexer": "ipython3",
   "version": "3.10.12"
  }
 },
 "nbformat": 4,
 "nbformat_minor": 2
}
